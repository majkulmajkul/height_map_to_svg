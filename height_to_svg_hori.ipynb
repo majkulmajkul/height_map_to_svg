{
 "cells": [
  {
   "cell_type": "markdown",
   "metadata": {},
   "source": [
    "Height data from: https://tangrams.github.io/heightmapper/"
   ]
  },
  {
   "cell_type": "code",
   "execution_count": 1,
   "metadata": {},
   "outputs": [],
   "source": [
    "import svg\n",
    "from PIL import Image\n",
    "import numpy as np"
   ]
  },
  {
   "cell_type": "code",
   "execution_count": 2,
   "metadata": {},
   "outputs": [],
   "source": [
    "#Define parameters\n",
    "\n",
    "#the name of the PNG file of the height map\n",
    "file_name = 'bukk_close.png' \n",
    "\n",
    "#0-255, don't draw below this number\n",
    "threshold = 64\n",
    "\n",
    "#sample every\n",
    "resolution = 10\n",
    "\n",
    "#distort the lines this much\n",
    "offset_factor = 2\n",
    "\n"
   ]
  },
  {
   "cell_type": "code",
   "execution_count": 3,
   "metadata": {},
   "outputs": [],
   "source": [
    "file_name_first_part, _ = file_name.split('.')\n",
    "file_name_first_part = file_name_first_part + '_horizontal'\n",
    "original_image = np.asarray(Image.open(file_name))\n",
    "height, width, _ = original_image.shape\n",
    "\n",
    "\n",
    "my_svg = svg.SVG(width=width+int(255/offset_factor),height=height,elements = [])\n",
    "\n",
    "this_line = None"
   ]
  },
  {
   "cell_type": "code",
   "execution_count": 4,
   "metadata": {},
   "outputs": [],
   "source": [
    "for i in range(0, height, resolution):\n",
    "    for j in range(0, width, resolution):\n",
    "        #since image is greyscale R = G = B, so we can use [0]\n",
    "        shade = original_image[i][j][0]\n",
    "        if shade > threshold:\n",
    "            offset_i = i + int(shade/offset_factor)\n",
    "            if this_line:\n",
    "                for coord in [j, offset_i]:\n",
    "                    this_line.points.append(coord)\n",
    "            else:\n",
    "                this_line = svg.Polyline(\n",
    "                                    points=[\n",
    "                                        j, offset_i \n",
    "                                    ],\n",
    "                                    stroke=\"black\",\n",
    "                                    fill=\"transparent\",\n",
    "                                    stroke_width=1,\n",
    "                                )\n",
    "        else:\n",
    "            if this_line:\n",
    "                my_svg.elements.append(this_line)\n",
    "                this_line = None\n",
    "\n",
    "    if this_line:\n",
    "        my_svg.elements.append(this_line)\n",
    "        this_line = None\n",
    "    \n",
    "\n",
    "\n"
   ]
  },
  {
   "cell_type": "code",
   "execution_count": 5,
   "metadata": {},
   "outputs": [],
   "source": [
    "with open('{}.svg'.format(file_name_first_part), 'w') as svg_file:\n",
    "    svg_file.write(str(my_svg))\n",
    " "
   ]
  }
 ],
 "metadata": {
  "kernelspec": {
   "display_name": ".venv",
   "language": "python",
   "name": "python3"
  },
  "language_info": {
   "codemirror_mode": {
    "name": "ipython",
    "version": 3
   },
   "file_extension": ".py",
   "mimetype": "text/x-python",
   "name": "python",
   "nbconvert_exporter": "python",
   "pygments_lexer": "ipython3",
   "version": "3.12.3"
  }
 },
 "nbformat": 4,
 "nbformat_minor": 2
}
